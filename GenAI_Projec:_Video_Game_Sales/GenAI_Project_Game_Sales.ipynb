{
  "nbformat": 4,
  "nbformat_minor": 0,
  "metadata": {
    "colab": {
      "provenance": []
    },
    "kernelspec": {
      "name": "python3",
      "display_name": "Python 3"
    },
    "language_info": {
      "name": "python"
    }
  },
  "cells": [
    {
      "cell_type": "markdown",
      "source": [
        "Step 1: Importing Pandas and Seaborn"
      ],
      "metadata": {
        "id": "CZdzlVls194b"
      }
    },
    {
      "cell_type": "code",
      "source": [
        "import pandas as pd\n",
        "import seaborn as sns\n",
        "import io"
      ],
      "metadata": {
        "id": "UXtmxetk1-Jr"
      },
      "execution_count": null,
      "outputs": []
    },
    {
      "cell_type": "markdown",
      "source": [
        "Step 2: Uploading the 2 CSV files"
      ],
      "metadata": {
        "id": "GN8r5H1i2fW4"
      }
    },
    {
      "cell_type": "code",
      "source": [
        "from google.colab import files\n",
        "uploaded = files.upload()"
      ],
      "metadata": {
        "colab": {
          "base_uri": "https://localhost:8080/",
          "height": 107
        },
        "id": "yJR6tJDx2qkm",
        "outputId": "fe383bdf-7e86-43e4-8cfa-e5d194d9f759"
      },
      "execution_count": null,
      "outputs": [
        {
          "output_type": "display_data",
          "data": {
            "text/plain": [
              "<IPython.core.display.HTML object>"
            ],
            "text/html": [
              "\n",
              "     <input type=\"file\" id=\"files-0ab84ba2-f6f7-449b-a381-c91a7bdfd69a\" name=\"files[]\" multiple disabled\n",
              "        style=\"border:none\" />\n",
              "     <output id=\"result-0ab84ba2-f6f7-449b-a381-c91a7bdfd69a\">\n",
              "      Upload widget is only available when the cell has been executed in the\n",
              "      current browser session. Please rerun this cell to enable.\n",
              "      </output>\n",
              "      <script>// Copyright 2017 Google LLC\n",
              "//\n",
              "// Licensed under the Apache License, Version 2.0 (the \"License\");\n",
              "// you may not use this file except in compliance with the License.\n",
              "// You may obtain a copy of the License at\n",
              "//\n",
              "//      http://www.apache.org/licenses/LICENSE-2.0\n",
              "//\n",
              "// Unless required by applicable law or agreed to in writing, software\n",
              "// distributed under the License is distributed on an \"AS IS\" BASIS,\n",
              "// WITHOUT WARRANTIES OR CONDITIONS OF ANY KIND, either express or implied.\n",
              "// See the License for the specific language governing permissions and\n",
              "// limitations under the License.\n",
              "\n",
              "/**\n",
              " * @fileoverview Helpers for google.colab Python module.\n",
              " */\n",
              "(function(scope) {\n",
              "function span(text, styleAttributes = {}) {\n",
              "  const element = document.createElement('span');\n",
              "  element.textContent = text;\n",
              "  for (const key of Object.keys(styleAttributes)) {\n",
              "    element.style[key] = styleAttributes[key];\n",
              "  }\n",
              "  return element;\n",
              "}\n",
              "\n",
              "// Max number of bytes which will be uploaded at a time.\n",
              "const MAX_PAYLOAD_SIZE = 100 * 1024;\n",
              "\n",
              "function _uploadFiles(inputId, outputId) {\n",
              "  const steps = uploadFilesStep(inputId, outputId);\n",
              "  const outputElement = document.getElementById(outputId);\n",
              "  // Cache steps on the outputElement to make it available for the next call\n",
              "  // to uploadFilesContinue from Python.\n",
              "  outputElement.steps = steps;\n",
              "\n",
              "  return _uploadFilesContinue(outputId);\n",
              "}\n",
              "\n",
              "// This is roughly an async generator (not supported in the browser yet),\n",
              "// where there are multiple asynchronous steps and the Python side is going\n",
              "// to poll for completion of each step.\n",
              "// This uses a Promise to block the python side on completion of each step,\n",
              "// then passes the result of the previous step as the input to the next step.\n",
              "function _uploadFilesContinue(outputId) {\n",
              "  const outputElement = document.getElementById(outputId);\n",
              "  const steps = outputElement.steps;\n",
              "\n",
              "  const next = steps.next(outputElement.lastPromiseValue);\n",
              "  return Promise.resolve(next.value.promise).then((value) => {\n",
              "    // Cache the last promise value to make it available to the next\n",
              "    // step of the generator.\n",
              "    outputElement.lastPromiseValue = value;\n",
              "    return next.value.response;\n",
              "  });\n",
              "}\n",
              "\n",
              "/**\n",
              " * Generator function which is called between each async step of the upload\n",
              " * process.\n",
              " * @param {string} inputId Element ID of the input file picker element.\n",
              " * @param {string} outputId Element ID of the output display.\n",
              " * @return {!Iterable<!Object>} Iterable of next steps.\n",
              " */\n",
              "function* uploadFilesStep(inputId, outputId) {\n",
              "  const inputElement = document.getElementById(inputId);\n",
              "  inputElement.disabled = false;\n",
              "\n",
              "  const outputElement = document.getElementById(outputId);\n",
              "  outputElement.innerHTML = '';\n",
              "\n",
              "  const pickedPromise = new Promise((resolve) => {\n",
              "    inputElement.addEventListener('change', (e) => {\n",
              "      resolve(e.target.files);\n",
              "    });\n",
              "  });\n",
              "\n",
              "  const cancel = document.createElement('button');\n",
              "  inputElement.parentElement.appendChild(cancel);\n",
              "  cancel.textContent = 'Cancel upload';\n",
              "  const cancelPromise = new Promise((resolve) => {\n",
              "    cancel.onclick = () => {\n",
              "      resolve(null);\n",
              "    };\n",
              "  });\n",
              "\n",
              "  // Wait for the user to pick the files.\n",
              "  const files = yield {\n",
              "    promise: Promise.race([pickedPromise, cancelPromise]),\n",
              "    response: {\n",
              "      action: 'starting',\n",
              "    }\n",
              "  };\n",
              "\n",
              "  cancel.remove();\n",
              "\n",
              "  // Disable the input element since further picks are not allowed.\n",
              "  inputElement.disabled = true;\n",
              "\n",
              "  if (!files) {\n",
              "    return {\n",
              "      response: {\n",
              "        action: 'complete',\n",
              "      }\n",
              "    };\n",
              "  }\n",
              "\n",
              "  for (const file of files) {\n",
              "    const li = document.createElement('li');\n",
              "    li.append(span(file.name, {fontWeight: 'bold'}));\n",
              "    li.append(span(\n",
              "        `(${file.type || 'n/a'}) - ${file.size} bytes, ` +\n",
              "        `last modified: ${\n",
              "            file.lastModifiedDate ? file.lastModifiedDate.toLocaleDateString() :\n",
              "                                    'n/a'} - `));\n",
              "    const percent = span('0% done');\n",
              "    li.appendChild(percent);\n",
              "\n",
              "    outputElement.appendChild(li);\n",
              "\n",
              "    const fileDataPromise = new Promise((resolve) => {\n",
              "      const reader = new FileReader();\n",
              "      reader.onload = (e) => {\n",
              "        resolve(e.target.result);\n",
              "      };\n",
              "      reader.readAsArrayBuffer(file);\n",
              "    });\n",
              "    // Wait for the data to be ready.\n",
              "    let fileData = yield {\n",
              "      promise: fileDataPromise,\n",
              "      response: {\n",
              "        action: 'continue',\n",
              "      }\n",
              "    };\n",
              "\n",
              "    // Use a chunked sending to avoid message size limits. See b/62115660.\n",
              "    let position = 0;\n",
              "    do {\n",
              "      const length = Math.min(fileData.byteLength - position, MAX_PAYLOAD_SIZE);\n",
              "      const chunk = new Uint8Array(fileData, position, length);\n",
              "      position += length;\n",
              "\n",
              "      const base64 = btoa(String.fromCharCode.apply(null, chunk));\n",
              "      yield {\n",
              "        response: {\n",
              "          action: 'append',\n",
              "          file: file.name,\n",
              "          data: base64,\n",
              "        },\n",
              "      };\n",
              "\n",
              "      let percentDone = fileData.byteLength === 0 ?\n",
              "          100 :\n",
              "          Math.round((position / fileData.byteLength) * 100);\n",
              "      percent.textContent = `${percentDone}% done`;\n",
              "\n",
              "    } while (position < fileData.byteLength);\n",
              "  }\n",
              "\n",
              "  // All done.\n",
              "  yield {\n",
              "    response: {\n",
              "      action: 'complete',\n",
              "    }\n",
              "  };\n",
              "}\n",
              "\n",
              "scope.google = scope.google || {};\n",
              "scope.google.colab = scope.google.colab || {};\n",
              "scope.google.colab._files = {\n",
              "  _uploadFiles,\n",
              "  _uploadFilesContinue,\n",
              "};\n",
              "})(self);\n",
              "</script> "
            ]
          },
          "metadata": {}
        },
        {
          "output_type": "stream",
          "name": "stdout",
          "text": [
            "Saving Video_Games_Sales_as_at_22_Dec_2016.csv to Video_Games_Sales_as_at_22_Dec_2016 (1).csv\n",
            "Saving Video_Games_Sales_Truncated.csv to Video_Games_Sales_Truncated (1).csv\n"
          ]
        }
      ]
    },
    {
      "cell_type": "markdown",
      "source": [
        "Step 3: Reading the CSV Files with Pandas"
      ],
      "metadata": {
        "id": "_BTDDELR38L6"
      }
    },
    {
      "cell_type": "code",
      "source": [
        "df = pd.read_csv(io.BytesIO(uploaded['Video_Games_Sales_as_at_22_Dec_2016 (1).csv']))\n",
        "df_trunc = pd.read_csv(io.BytesIO(uploaded['Video_Games_Sales_Truncated (1).csv']))"
      ],
      "metadata": {
        "id": "5U7esFDE4EKh"
      },
      "execution_count": null,
      "outputs": []
    },
    {
      "cell_type": "markdown",
      "source": [
        "Step 4 - Part 1: Show First Five Records"
      ],
      "metadata": {
        "id": "R3l7hwyx6CZw"
      }
    },
    {
      "cell_type": "code",
      "source": [
        "print(df[0:5])"
      ],
      "metadata": {
        "colab": {
          "base_uri": "https://localhost:8080/"
        },
        "id": "fkKonVyk6Juj",
        "outputId": "3e88cc10-3744-4e43-9cad-6bfa175dc8d1"
      },
      "execution_count": null,
      "outputs": [
        {
          "output_type": "stream",
          "name": "stdout",
          "text": [
            "                       Name Platform  Year_of_Release         Genre Publisher  \\\n",
            "0                Wii Sports      Wii           2006.0        Sports  Nintendo   \n",
            "1         Super Mario Bros.      NES           1985.0      Platform  Nintendo   \n",
            "2            Mario Kart Wii      Wii           2008.0        Racing  Nintendo   \n",
            "3         Wii Sports Resort      Wii           2009.0        Sports  Nintendo   \n",
            "4  Pokemon Red/Pokemon Blue       GB           1996.0  Role-Playing  Nintendo   \n",
            "\n",
            "   NA_Sales  EU_Sales  JP_Sales  Other_Sales  Global_Sales  Critic_Score  \\\n",
            "0     41.36     28.96      3.77         8.45         82.53          76.0   \n",
            "1     29.08      3.58      6.81         0.77         40.24           NaN   \n",
            "2     15.68     12.76      3.79         3.29         35.52          82.0   \n",
            "3     15.61     10.93      3.28         2.95         32.77          80.0   \n",
            "4     11.27      8.89     10.22         1.00         31.37           NaN   \n",
            "\n",
            "   Critic_Count  User_Score  User_Count Developer Rating  \n",
            "0          51.0         8.0       322.0  Nintendo      E  \n",
            "1           NaN         NaN         NaN       NaN    NaN  \n",
            "2          73.0         8.3       709.0  Nintendo      E  \n",
            "3          73.0         8.0       192.0  Nintendo      E  \n",
            "4           NaN         NaN         NaN       NaN    NaN  \n"
          ]
        }
      ]
    },
    {
      "cell_type": "code",
      "source": [
        "print(df_trunc[0:5])"
      ],
      "metadata": {
        "colab": {
          "base_uri": "https://localhost:8080/"
        },
        "id": "ZNcd7TXM67kw",
        "outputId": "10266cc6-201d-4676-c816-a3ff2c0113c8"
      },
      "execution_count": null,
      "outputs": [
        {
          "output_type": "stream",
          "name": "stdout",
          "text": [
            "                       Name Platform  Year_of_Release         Genre Publisher  \\\n",
            "0                Wii Sports      Wii           2006.0        Sports  Nintendo   \n",
            "1         Super Mario Bros.      NES           1985.0      Platform  Nintendo   \n",
            "2            Mario Kart Wii      Wii           2008.0        Racing  Nintendo   \n",
            "3         Wii Sports Resort      Wii           2009.0        Sports  Nintendo   \n",
            "4  Pokemon Red/Pokemon Blue       GB           1996.0  Role-Playing  Nintendo   \n",
            "\n",
            "   NA_Sales  EU_Sales  JP_Sales  Other_Sales  Global_Sales  Critic_Score  \\\n",
            "0     41.36     28.96      3.77         8.45         82.53          76.0   \n",
            "1     29.08      3.58      6.81         0.77         40.24           NaN   \n",
            "2     15.68     12.76      3.79         3.29         35.52          82.0   \n",
            "3     15.61     10.93      3.28         2.95         32.77          80.0   \n",
            "4     11.27      8.89     10.22         1.00         31.37           NaN   \n",
            "\n",
            "   Critic_Count  User_Score  User_Count Developer Rating  \n",
            "0          51.0         8.0       322.0  Nintendo      E  \n",
            "1           NaN         NaN         NaN       NaN    NaN  \n",
            "2          73.0         8.3       709.0  Nintendo      E  \n",
            "3          73.0         8.0       192.0  Nintendo      E  \n",
            "4           NaN         NaN         NaN       NaN    NaN  \n"
          ]
        }
      ]
    },
    {
      "cell_type": "markdown",
      "source": [
        "Step 4 - Part 2: Show All Columns of The Dataframe"
      ],
      "metadata": {
        "id": "0OQ80eat6Kdw"
      }
    },
    {
      "cell_type": "code",
      "source": [
        "print(df[0:0])"
      ],
      "metadata": {
        "colab": {
          "base_uri": "https://localhost:8080/"
        },
        "id": "-oKhoXhR6QUP",
        "outputId": "0b979868-d9b4-4d31-e8ab-d6dfe31c0041"
      },
      "execution_count": null,
      "outputs": [
        {
          "output_type": "stream",
          "name": "stdout",
          "text": [
            "Empty DataFrame\n",
            "Columns: [Name, Platform, Year_of_Release, Genre, Publisher, NA_Sales, EU_Sales, JP_Sales, Other_Sales, Global_Sales, Critic_Score, Critic_Count, User_Score, User_Count, Developer, Rating]\n",
            "Index: []\n"
          ]
        }
      ]
    },
    {
      "cell_type": "code",
      "source": [
        "print(df_trunc[0:0])"
      ],
      "metadata": {
        "colab": {
          "base_uri": "https://localhost:8080/"
        },
        "id": "x_-nqbr47lZ3",
        "outputId": "b78ddc1c-0f17-4160-fcbd-a90f1b9fd636"
      },
      "execution_count": null,
      "outputs": [
        {
          "output_type": "stream",
          "name": "stdout",
          "text": [
            "Empty DataFrame\n",
            "Columns: [Name, Platform, Year_of_Release, Genre, Publisher, NA_Sales, EU_Sales, JP_Sales, Other_Sales, Global_Sales, Critic_Score, Critic_Count, User_Score, User_Count, Developer, Rating]\n",
            "Index: []\n"
          ]
        }
      ]
    },
    {
      "cell_type": "markdown",
      "source": [
        "Step 4 - Part 3: Show Last Five Rows"
      ],
      "metadata": {
        "id": "eUUSai8n6Q9j"
      }
    },
    {
      "cell_type": "code",
      "source": [
        "print(df[-5:])"
      ],
      "metadata": {
        "colab": {
          "base_uri": "https://localhost:8080/"
        },
        "id": "R9UBy37j6Wob",
        "outputId": "017a7c26-913a-497a-ef0f-7d22f15a3ecb"
      },
      "execution_count": null,
      "outputs": [
        {
          "output_type": "stream",
          "name": "stdout",
          "text": [
            "                                Name Platform  Year_of_Release       Genre  \\\n",
            "16714  Samurai Warriors: Sanada Maru      PS3           2016.0      Action   \n",
            "16715               LMA Manager 2007     X360           2006.0      Sports   \n",
            "16716        Haitaka no Psychedelica      PSV           2016.0   Adventure   \n",
            "16717               Spirits & Spells      GBA           2003.0    Platform   \n",
            "16718            Winning Post 8 2016      PSV           2016.0  Simulation   \n",
            "\n",
            "          Publisher  NA_Sales  EU_Sales  JP_Sales  Other_Sales  Global_Sales  \\\n",
            "16714    Tecmo Koei      0.00      0.00      0.01          0.0          0.01   \n",
            "16715   Codemasters      0.00      0.01      0.00          0.0          0.01   \n",
            "16716  Idea Factory      0.00      0.00      0.01          0.0          0.01   \n",
            "16717       Wanadoo      0.01      0.00      0.00          0.0          0.01   \n",
            "16718    Tecmo Koei      0.00      0.00      0.01          0.0          0.01   \n",
            "\n",
            "       Critic_Score  Critic_Count  User_Score  User_Count Developer Rating  \n",
            "16714           NaN           NaN         NaN         NaN       NaN    NaN  \n",
            "16715           NaN           NaN         NaN         NaN       NaN    NaN  \n",
            "16716           NaN           NaN         NaN         NaN       NaN    NaN  \n",
            "16717           NaN           NaN         NaN         NaN       NaN    NaN  \n",
            "16718           NaN           NaN         NaN         NaN       NaN    NaN  \n"
          ]
        }
      ]
    },
    {
      "cell_type": "code",
      "source": [
        "print(df_trunc[-5:])"
      ],
      "metadata": {
        "colab": {
          "base_uri": "https://localhost:8080/"
        },
        "id": "r0lwM7Mh7xL3",
        "outputId": "85e1b7d5-f2dd-4471-c05f-490ab86c0af2"
      },
      "execution_count": null,
      "outputs": [
        {
          "output_type": "stream",
          "name": "stdout",
          "text": [
            "                              Name Platform  Year_of_Release         Genre  \\\n",
            "32         Call of Duty: Black Ops     X360           2010.0       Shooter   \n",
            "33             Pokemon X/Pokemon Y      3DS           2013.0  Role-Playing   \n",
            "34      Call of Duty: Black Ops II      PS3           2012.0       Shooter   \n",
            "35      Call of Duty: Black Ops II     X360           2012.0       Shooter   \n",
            "36  Call of Duty: Modern Warfare 2     X360           2009.0       Shooter   \n",
            "\n",
            "     Publisher  NA_Sales  EU_Sales  JP_Sales  Other_Sales  Global_Sales  \\\n",
            "32  Activision      9.70      3.68      0.11         1.13         14.61   \n",
            "33    Nintendo      5.28      4.19      4.35         0.78         14.60   \n",
            "34  Activision      4.99      5.73      0.65         2.42         13.79   \n",
            "35  Activision      8.25      4.24      0.07         1.12         13.67   \n",
            "36  Activision      8.52      3.59      0.08         1.28         13.47   \n",
            "\n",
            "    Critic_Score  Critic_Count  User_Score  User_Count      Developer Rating  \n",
            "32          87.0          89.0         6.3      1454.0       Treyarch      M  \n",
            "33           NaN           NaN         NaN         NaN            NaN    NaN  \n",
            "34          83.0          21.0         5.3       922.0       Treyarch      M  \n",
            "35          83.0          73.0         4.8      2256.0       Treyarch      M  \n",
            "36          94.0         100.0         6.3      2698.0  Infinity Ward      M  \n"
          ]
        }
      ]
    }
  ]
}